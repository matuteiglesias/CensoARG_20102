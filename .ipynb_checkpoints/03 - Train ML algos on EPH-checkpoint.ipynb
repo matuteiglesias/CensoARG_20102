{
 "cells": [
  {
   "cell_type": "markdown",
   "metadata": {},
   "source": [
    "# Training ML algos on EPH. Predicting on CENSO."
   ]
  },
  {
   "cell_type": "code",
   "execution_count": 1,
   "metadata": {},
   "outputs": [],
   "source": [
    "# Load modules\n",
    "# import time\n",
    "# time.sleep(2000)\n",
    "\n",
    "import pandas as pd\n",
    "import numpy as np\n",
    "\n",
    "\n",
    "# Column names\n",
    "y_cols = ['CAT_OCUP', 'P47T', 'PP10E', 'PP10D', 'PP07K', 'PP07I', 'V3_M', 'PP07G4', 'CH16', 'T_VI', \n",
    "          'V12_M', 'TOT_P12', 'PP07G3', 'V5_M', 'PP07H', 'V2_M', 'PP10C', \n",
    "          'PP08D1', 'PP07J', 'CAT_INAC', 'CH07', 'CH08', 'P21', 'PP07G1', 'PP07G_59', 'PP07G2']\n",
    "\n",
    "\n",
    "x_cols = ['IX_TOT', 'P02', 'P03', 'AGLOMERADO', 'V01', 'H05', 'H06',\n",
    "       'H07', 'H08', 'H09', 'H10', 'H11', 'H12', 'H16', 'H15', 'PROP', 'H14',\n",
    "       'H13', 'P07', 'P08', 'P09', 'P10', 'P05', 'CONDACT']"
   ]
  },
  {
   "cell_type": "markdown",
   "metadata": {},
   "source": [
    "# Ahora si!\n",
    "## Train on Quarterly data"
   ]
  },
  {
   "cell_type": "code",
   "execution_count": 2,
   "metadata": {},
   "outputs": [],
   "source": [
    "import pandas as pd\n",
    "from sklearn.model_selection import train_test_split\n",
    "# import numpy as np\n",
    "from sklearn.ensemble import RandomForestClassifier, RandomForestRegressor"
   ]
  },
  {
   "cell_type": "code",
   "execution_count": 3,
   "metadata": {},
   "outputs": [],
   "source": [
    "\n",
    "# T = '20162'\n",
    "# # Load EPH\n",
    "# # PBA_train = pd.read_csv('./PBA_train.csv').fillna(0)\n",
    "# PBA_train = pd.read_csv('./PBA_train_'+T+'.csv').fillna(0)\n",
    "# # PBA_train = PBA_train.sample(frac = 1).reset_index(drop = True)\n",
    "# # PBA_train.head()\n",
    "\n",
    "# # Load Census\n",
    "# # X_censo = pd.read_csv('./sample_censo_table025_A_bolivar.csv').fillna(0)\n",
    "# # X_censo = pd.read_csv('./sample_censo_table025_A_vlopez_rodriguez.csv').fillna(0)\n",
    "# X_censo = pd.read_csv('./sample_censo_table025rand.csv', nrows=300000, usecols = ['DPTO','RADIO_REF_ID','PERSONA_REF_ID','IX_TOT', 'P02', 'P03', 'CONDACT', 'AGLOMERADO', 'V01', 'H05', 'H06',\n",
    "#        'H07', 'H08', 'H09', 'H10', 'H11', 'H12', 'H16', 'H15', 'PROP', 'H14',\n",
    "#        'H13', 'P07', 'P08', 'P09', 'P10', 'P05']).fillna(0).rename(columns = {'CONDACT': 'CA'})\n",
    "# X_censo[x_cols].values.shape"
   ]
  },
  {
   "cell_type": "code",
   "execution_count": 4,
   "metadata": {},
   "outputs": [
    {
     "name": "stderr",
     "output_type": "stream",
     "text": [
      "/home/miglesia/anaconda2/lib/python2.7/site-packages/IPython/core/interactiveshell.py:2723: DtypeWarning: Columns (7) have mixed types. Specify dtype option on import or set low_memory=False.\n",
      "  interactivity=interactivity, compiler=compiler, result=result)\n"
     ]
    }
   ],
   "source": [
    "# Load Census\n",
    "# file_ = './../../Desktop/extracted_/sample_censo_table_f.1BA.csv'\n",
    "file_ = 'sintetico_2017.1.csv'\n",
    "\n",
    "X_censo = pd.read_csv(file_, usecols = ['DPTO','RADIO_REF_ID','PERSONA_REF_ID','IX_TOT', 'P02', 'P03', 'CONDACT', 'AGLOMERADO', 'V01', 'H05', 'H06',\n",
    "       'H07', 'H08', 'H09', 'H10', 'H11', 'H12', 'H16', 'H15', 'PROP', 'H14',\n",
    "       'H13', 'P07', 'P08', 'P09', 'P10', 'P05', 'circuito', 'dpto_merge']).fillna(0).sample(frac = .1)\n",
    "X_censo[x_cols].values.shape\n",
    "\n",
    "X_censo['P03'] = (abs(X_censo[['P03']] -19) < 3).astype(int) * X_censo[['P03']] + \\\n",
    "(abs(X_censo[['P03']] -19) >= 3).astype(int) * np.floor(10*X_censo[['P03']].rank(pct = 1)-0.01).astype(int)\n",
    "X_censo['CONDACT'] = 100*X_censo['CONDACT']\n",
    "X_censo['AGLOMERADO'] = 10*X_censo['AGLOMERADO']"
   ]
  },
  {
   "cell_type": "code",
   "execution_count": 5,
   "metadata": {},
   "outputs": [
    {
     "data": {
      "text/plain": [
       "(152789, 29)"
      ]
     },
     "execution_count": 5,
     "metadata": {},
     "output_type": "execute_result"
    }
   ],
   "source": [
    "X_censo.shape"
   ]
  },
  {
   "cell_type": "code",
   "execution_count": 6,
   "metadata": {},
   "outputs": [],
   "source": [
    "# Load EPH\n",
    "\n",
    "PBA_train = pd.read_csv('./../../Desktop/extracted_/PBA_train.csv').fillna(0)\n",
    "PBA_train['P03'] = (abs(PBA_train[['P03']] -19) < 3).astype(int) * PBA_train[['P03']] + \\\n",
    "(abs(PBA_train[['P03']] -19) >= 3).astype(int) * np.floor(10*PBA_train[['P03']].rank(pct = 1)-0.01).astype(int)\n",
    "PBA_train['CONDACT'] = 100*PBA_train['CONDACT']\n",
    "PBA_train['AGLOMERADO'] = 10*PBA_train['AGLOMERADO']\n",
    "\n",
    "# PBA_train = PBA_train.loc[PBA_train.AGLOMERADO.isin(X_censo['AGLOMERADO'].unique())]\n"
   ]
  },
  {
   "cell_type": "code",
   "execution_count": null,
   "metadata": {},
   "outputs": [],
   "source": [
    "# PBA_train"
   ]
  },
  {
   "cell_type": "code",
   "execution_count": null,
   "metadata": {},
   "outputs": [],
   "source": [
    "\n",
    "### STEP 1\n",
    "x_cols1 = x_cols\n",
    "\n",
    "#     predecir = ['CAT_OCUP', 'CAT_INAC', 'CH07']\n",
    "predecir1 = ['CAT_OCUP', 'CAT_INAC', 'CH07']\n",
    "y_cols1 = predecir1\n",
    "\n",
    "X = PBA_train[x_cols1]\n",
    "y = PBA_train[y_cols1].loc[X.index]\n",
    "\n",
    "X_train, X_test, y_train, y_test = train_test_split(X, y, test_size=0.05)\n",
    "# Rewrite Census data as 'test' set.\n",
    "\n",
    "X = X_train; y = y_train\n",
    "\n",
    "# clf = tree.DecisionTreeClassifier()\n",
    "clf1 = RandomForestClassifier(n_estimators=50)\n",
    "clf1 = clf1.fit(X.values, y.values)\n",
    "\n",
    "y_out1 = clf1.predict(X_censo[x_cols1].values)\n",
    "y_censo_fit1 = pd.DataFrame(y_out1, index = X_censo.index, columns=predecir1)\n",
    "Xy1_censo = pd.concat([X_censo, y_censo_fit1], axis = 1)\n",
    "\n",
    "### STEP 2\n",
    "\n",
    "x_cols2 = x_cols1+predecir1\n",
    "# La seccion PP07G pregunta si el trabajo es en blanco y que beneficios tiene. Puede ayudar a la regresion para ingresos.\n",
    "predecir2 = ['PP07G1', 'PP07G2', 'PP07G3', 'PP07G4', 'PP07G_59', 'PP07H', 'PP07I', 'PP07J', 'PP07K']\n",
    "y_cols2 = predecir2\n",
    "X = PBA_train[x_cols2]\n",
    "y = PBA_train[y_cols2].loc[X.index]\n",
    "\n",
    "X_train, X_test, y_train, y_test = train_test_split(X, y, test_size=0.05)\n",
    "X = X_train; y = y_train\n",
    "\n",
    "# clf2 = tree.DecisionTreeClassifier()\n",
    "# clf2 = clf2.fit(X.values, y.values)\n",
    "clf2 = RandomForestClassifier(n_estimators=50).fit(X.values, y.values)\n",
    "\n",
    "y_out2 = clf2.predict(Xy1_censo[x_cols2].values)\n",
    "y_censo_fit2 = pd.DataFrame(y_out2, index = X_censo.index, columns=predecir2)\n",
    "Xy2_censo = pd.concat([Xy1_censo, y_censo_fit2], axis = 1)\n"
   ]
  },
  {
   "cell_type": "code",
   "execution_count": null,
   "metadata": {},
   "outputs": [],
   "source": [
    "pd.options.display.max_columns = 99\n",
    "Xy2_censo"
   ]
  },
  {
   "cell_type": "code",
   "execution_count": null,
   "metadata": {},
   "outputs": [],
   "source": [
    "# save RFC_25rand_20162\n",
    "Xy2_censo.to_csv('sintetico_circus_condact.csv', index = False)"
   ]
  },
  {
   "cell_type": "code",
   "execution_count": null,
   "metadata": {},
   "outputs": [],
   "source": [
    "for T in ['20162', '20163', '20164', '20171', '20172',  '20173',  '20174',  '20181', '20182', '20183']:\n",
    "    print(T)\n",
    "    ### STEP 3 (Regression)\n",
    "    PBA_train = pd.read_csv('./../../Desktop/extracted_/PBA_train_'+T+'.csv').fillna(0)\n",
    "\n",
    "    x_cols3 = x_cols2 + predecir2\n",
    "    # Columnas de ingresos. Necesitan una regresion...\n",
    "    predecir3 = ['P47T', 'V3_M', 'T_VI', 'V12_M', 'TOT_P12', 'V5_M','V2_M', 'PP08D1', 'P21']\n",
    "    y_cols3 = predecir3\n",
    "\n",
    "    X = PBA_train[x_cols3].sample(frac = 1) #PBA_train_reg\n",
    "    y = PBA_train[y_cols3].loc[X.index] #PBA_train_reg\n",
    "\n",
    "    X_train, X_test, y_train, y_test = train_test_split(X, y, test_size=0.2)\n",
    "    X = X_train; y = y_train\n",
    "\n",
    "    clf3 = RandomForestRegressor(n_estimators=50)\n",
    "    clf3 = clf3.fit(X.values, y.values)\n",
    "\n",
    "    y_out3 = clf3.predict(Xy2_censo[x_cols3].values)\n",
    "    y_censo_fit3 = pd.DataFrame(y_out3, index = X_censo.index, columns=predecir3)\n",
    "    Xy3_censo = pd.concat([Xy2_censo, y_censo_fit3], axis = 1)\n",
    "    Xy3_censo['ANO4'] = T[:-1]; Xy3_censo['TRIMESTRE'] = T[-1]\n",
    "\n",
    "    \n",
    "    # save\n",
    "#     Xy3_censo.to_csv('RFReg_.01AR'+T+'.csv', index = False)\n",
    "    Xy3_censo.to_csv('sintetico_circus_income_YQ'+T+'.csv', index = False)"
   ]
  },
  {
   "cell_type": "code",
   "execution_count": null,
   "metadata": {},
   "outputs": [],
   "source": []
  }
 ],
 "metadata": {
  "kernelspec": {
   "display_name": "Python 2",
   "language": "python",
   "name": "python2"
  },
  "language_info": {
   "codemirror_mode": {
    "name": "ipython",
    "version": 2
   },
   "file_extension": ".py",
   "mimetype": "text/x-python",
   "name": "python",
   "nbconvert_exporter": "python",
   "pygments_lexer": "ipython2",
   "version": "2.7.15"
  }
 },
 "nbformat": 4,
 "nbformat_minor": 2
}
