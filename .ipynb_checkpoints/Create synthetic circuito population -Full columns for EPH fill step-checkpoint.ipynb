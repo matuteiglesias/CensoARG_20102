{
 "cells": [
  {
   "cell_type": "code",
   "execution_count": 1,
   "metadata": {},
   "outputs": [],
   "source": [
    "import warnings\n",
    "warnings.filterwarnings('ignore')\n",
    "\n",
    "import pandas as pd\n",
    "import geopandas as gpd"
   ]
  },
  {
   "cell_type": "code",
   "execution_count": 2,
   "metadata": {},
   "outputs": [],
   "source": [
    "inters_key = pd.read_csv('./interseccion_radio_circu.csv', index_col=0)"
   ]
  },
  {
   "cell_type": "code",
   "execution_count": 3,
   "metadata": {
    "scrolled": false
   },
   "outputs": [
    {
     "name": "stdout",
     "output_type": "stream",
     "text": [
      "[########################################] | 100% Completed |  8.8s\n"
     ]
    }
   ],
   "source": [
    "import dask.dataframe as dd\n",
    "from dask.diagnostics import ProgressBar\n",
    "\n",
    "#Esto es para extraer las viviendas, hogares y personas de los partidos (DPTOs) en cuestion.\n",
    "# seleccion_DPTOS y usecols nos sirven para no cargar data innecesaria.\n",
    "radio_ref = pd.read_csv('./Radios_censales/radio_ref.csv')\n",
    "VIVIENDA = dd.read_csv('./../../Desktop/extracted_/VIVIENDA.csv', sep = ';', \n",
    "                       usecols = ['VIVIENDA_REF_ID', 'RADIO_REF_ID', 'TIPVV', 'V01'])\n",
    "VIVIENDA = VIVIENDA.merge(radio_ref[['RADIO_REF_ID', 'radio', 'DPTO', 'PROV']], how = 'left')\n",
    "VIVIENDA = VIVIENDA.loc[VIVIENDA.PROV.isin([2, 6])].sample(0.5) # 6.811.463 de viviendas en BA\n",
    "\n",
    "with ProgressBar():\n",
    "    df = VIVIENDA.compute()"
   ]
  },
  {
   "cell_type": "code",
   "execution_count": 4,
   "metadata": {
    "scrolled": false
   },
   "outputs": [
    {
     "name": "stdout",
     "output_type": "stream",
     "text": [
      "6049\n",
      "6056\n",
      "6063\n",
      "6070\n",
      "6084\n",
      "6091\n",
      "6098\n",
      "6119\n",
      "6126\n",
      "6147\n"
     ]
    }
   ],
   "source": [
    "list_ = []\n",
    "for dpto in inters_key.DPTO.unique()[:10]:\n",
    "    list_dpto = []\n",
    "    print(dpto)\n",
    "    inters_key_dpto = inters_key.loc[(inters_key.DPTO == dpto)]\n",
    "    for circ in inters_key_dpto.circuito.unique():\n",
    "        list_circ = []\n",
    "#         print(circ)\n",
    "        # Radios incluidos totalmente en el circuito\n",
    "        inters_key_circ_total =  inters_key_dpto.loc[(inters_key_dpto.circuito == circ) & (inters_key_dpto.pertenencia == 1)]\n",
    "        fully_contained_radios = inters_key_circ_total['LINK'].values\n",
    "        viviendas = df.loc[df.radio.isin(fully_contained_radios)]\n",
    "        if len(viviendas) > 1:\n",
    "            list_circ += [viviendas] #samplear segun cuanto de ese radio pertenece al circuito\n",
    "        \n",
    "        # Radios incluidos parcialmente\n",
    "        inters_key_circ_parte =  inters_key_dpto.loc[(inters_key_dpto.circuito == circ) & (inters_key_dpto.pertenencia < 1)]\n",
    "        for i, r in inters_key_circ_parte.iterrows():\n",
    "            viviendas = df.loc[df.radio == r['LINK']]\n",
    "            if len(viviendas) > 1:\n",
    "                list_circ += [viviendas.sample(frac = r['pertenencia'])] #samplear segun cuanto de ese radio pertenece al circuito    \n",
    "\n",
    "        try:\n",
    "            result_circuito = pd.concat(list_circ)\n",
    "            result_circuito['circuito'] = circ\n",
    "            list_dpto += [result_circuito]\n",
    "        except:\n",
    "            print('issue on dpto '+str(dpto))\n",
    "    \n",
    "    result_dpto = pd.concat(list_dpto)\n",
    "    result_dpto['DPTO'] = dpto\n",
    "    list_ += [result_dpto]\n",
    "result = pd.concat(list_)"
   ]
  },
  {
   "cell_type": "code",
   "execution_count": 7,
   "metadata": {},
   "outputs": [],
   "source": [
    "result.to_csv('./radio_circuito_key_example.csv')"
   ]
  },
  {
   "cell_type": "code",
   "execution_count": 8,
   "metadata": {},
   "outputs": [
    {
     "data": {
      "text/plain": [
       "(8281, 8)"
      ]
     },
     "execution_count": 8,
     "metadata": {},
     "output_type": "execute_result"
    }
   ],
   "source": [
    "result.shape"
   ]
  },
  {
   "cell_type": "code",
   "execution_count": 6,
   "metadata": {},
   "outputs": [
    {
     "name": "stdout",
     "output_type": "stream",
     "text": [
      "[########################################] | 100% Completed | 11.9s\n",
      "[########################################] | 100% Completed | 22.2s\n"
     ]
    }
   ],
   "source": [
    "# Listo, tenemos la ubicacion de muchas viviendas en circuitos. Consigamos sus hogares y personas y contemos cuantos mayores de 16 hay.\n",
    "\n",
    "result\n",
    "\n",
    "HOGARES = dd.read_csv('./../../Desktop/extracted_/HOGAR.csv', sep = ';', \n",
    "                      usecols = ['HOGAR_REF_ID', 'VIVIENDA_REF_ID'])\n",
    "#                       usecols = ['HOGAR_REF_ID', 'VIVIENDA_REF_ID', 'H05', 'H06', 'H07', 'H08',\n",
    "#        'H09', 'H10', 'H11', 'H12', 'H13', 'H14', 'H15', 'H16', 'PROP', 'TOTPERS'])\n",
    "HOGARES = HOGARES.loc[HOGARES.VIVIENDA_REF_ID.isin(result.VIVIENDA_REF_ID.unique())] # Las viviendas elegidas salen de los circuitos\n",
    "\n",
    "with ProgressBar():\n",
    "    HOGARES_sample = HOGARES['HOGAR_REF_ID'].values.compute()\n",
    "    \n",
    "\n",
    "merged_hogar = VIVIENDA.merge(HOGARES, on = 'VIVIENDA_REF_ID')#.merge(PERSONA_)\n",
    "\n",
    "# IX_TOT = merged_hogar.groupby('HOGAR_REF_ID').count().iloc[:, 0].reset_index()\n",
    "# IX_TOT.columns = ['HOGAR_REF_ID', 'IX_TOT']\n",
    "\n",
    "# merged_hogar = merged_hogar.merge(IX_TOT)\n",
    "\n",
    "with ProgressBar():\n",
    "    table = merged_hogar.compute()\n",
    "\n",
    "# Approach: modify Census to fit EPH\n",
    "# table['V01'] = table['V01'].map({1:1, 2:6, 3:6, 4:2, 5:3, 6:4, 7:5, 8:6})\n",
    "# table['H06'] = table['H06'].map({1:1, 2:2, 3:3, 4:4, 5:5, 6:6, 7:7, 8:9})\n",
    "# table['H09'] = table['H09'].map({1:1, 2:2, 3:3, 4:4, 5:4, 6:4})\n",
    "# table['H16'] = table['H16'].clip(0, 9)\n",
    "# table['H14'] = table['H14'].map({1:1, 2:4, 3:2, 4:2, 5:4, 6:3, 7:4, 8:9})\n",
    "# table['H13'] = table['H13'].map({1:1, 2:2, 4:0})\n",
    "\n",
    "# saber de que aglo es la persona. Se usa los resultados de cada aglo.\n",
    "table = table.merge(radio_ref[['RADIO_REF_ID','AGLOMERADO']]) \n",
    "\n",
    "# in case it crashes\n",
    "table.to_csv('./vivienda_hogar_step_save.csv', index = False)\n",
    "\n",
    " "
   ]
  },
  {
   "cell_type": "code",
   "execution_count": 7,
   "metadata": {},
   "outputs": [
    {
     "name": "stdout",
     "output_type": "stream",
     "text": [
      "[########################################] | 100% Completed | 29.3s\n"
     ]
    }
   ],
   "source": [
    "PERSONA = dd.read_csv('./../../Desktop/extracted_/PERSONA.csv', sep = ';', \n",
    "                      usecols = ['PERSONA_REF_ID', 'HOGAR_REF_ID', 'P03'])\n",
    "#                       usecols = ['PERSONA_REF_ID', 'HOGAR_REF_ID', 'P01', 'P02', 'P03', 'P05', 'P06',\n",
    "#        'P07', 'P12', 'P08', 'P09', 'P10', 'CONDACT'])\n",
    "PERSONA = PERSONA.loc[PERSONA.HOGAR_REF_ID.isin(HOGARES_sample)]\n",
    "\n",
    "with ProgressBar():\n",
    "    PERSONA = PERSONA.compute()\n",
    "    \n",
    "\n",
    "table = table.merge(PERSONA, on = 'HOGAR_REF_ID')\n",
    "# table['P07'] = table['P07'].map({1:1, 2:2, 0:2})\n",
    "\n",
    "# with ProgressBar():\n",
    "#     df = table.compute()\n",
    "    \n",
    "table.to_csv('./vivienda_hogar_step_save.csv', index = False)\n"
   ]
  },
  {
   "cell_type": "code",
   "execution_count": null,
   "metadata": {},
   "outputs": [],
   "source": [
    "cicuito_pers = result.merge(table)\n",
    "\n",
    "cicuito_pers.to_csv('./circuito_pobalcion_sint.csv', index = False)"
   ]
  },
  {
   "cell_type": "code",
   "execution_count": null,
   "metadata": {},
   "outputs": [],
   "source": [
    "poblacion = pd.DataFrame(cicuito_pers.groupby(['DPTO','circuito']).count().iloc[:, 1])\n",
    "poblacion.columns = ['poblacion']\n",
    "\n",
    "# dptos info\n",
    "from unidecode import unidecode\n",
    "DPTO = pd.read_csv('./../EleccionesARG/data/censo_geo/DPTO.csv', ';')[['DPTO', 'NOMDPTO']]\n",
    "DPTO['dpto_merge'] = [unidecode(row) for row in DPTO['NOMDPTO'].str.lower()]\n",
    "DPTO['dpto_merge'] = DPTO['dpto_merge'].str.replace('25', 'veinticinco').str.replace('9 ', 'nueve ')\n",
    "\n",
    "poblacion = poblacion.reset_index().merge(DPTO[['DPTO', 'dpto_merge']], on = 'DPTO')\n",
    "\n",
    "poblacion.head()"
   ]
  },
  {
   "cell_type": "code",
   "execution_count": null,
   "metadata": {},
   "outputs": [],
   "source": [
    "votos = pd.read_csv('./../EleccionesARG/data/tablas_votos/VOTOS_2015_17_circ_cnt.csv', header=[0, 1], index_col = [0, 1, 2])\n",
    "votos['ELECTORES'].reset_index().head()"
   ]
  },
  {
   "cell_type": "code",
   "execution_count": null,
   "metadata": {},
   "outputs": [],
   "source": [
    "comparacion_electores = poblacion.merge(votos['ELECTORES'].reset_index(),\n",
    "                left_on = ['dpto_merge', 'circuito'],\n",
    "                right_on = ['dpto_merger_str', 'circuito']\n",
    "               ).set_index(['dpto_merge', 'circuito'])[['poblacion', 'DN_2015', 'paso_2017', 'DN_2017']]\n",
    "comparacion_electores.head()"
   ]
  },
  {
   "cell_type": "code",
   "execution_count": null,
   "metadata": {
    "scrolled": false
   },
   "outputs": [],
   "source": [
    "comparacion_electores[[ 'DN_2015', 'paso_2017', 'DN_2017']].div(comparacion_electores['poblacion'].values, 0)"
   ]
  },
  {
   "cell_type": "code",
   "execution_count": null,
   "metadata": {},
   "outputs": [],
   "source": [
    "# # PERSONA = dd.read_csv('./../../Desktop/extracted_/PERSONA.csv', sep = ';', usecols = ['PERSONA_REF_ID', 'HOGAR_REF_ID', 'CONDACT'])\n",
    "\n",
    "# # PERSONA = PERSONA.loc[PERSONA.HOGAR_REF_ID.isin(HOGARES_sample)]\n",
    "\n",
    "# # with ProgressBar():\n",
    "# #     PERSONA = PERSONA.compute()\n",
    "\n",
    "# merged_persona = merged_hogar.merge(PERSONA, on = 'HOGAR_REF_ID')\n",
    "\n",
    "# # merged_persona['P07'] = merged_persona['P07'].map({1:1, 2:2, 0:2})\n",
    "\n",
    "# with ProgressBar():\n",
    "#     df = merged_persona.compute()\n"
   ]
  },
  {
   "cell_type": "code",
   "execution_count": null,
   "metadata": {},
   "outputs": [],
   "source": [
    "# df.to_csv('./merged_circuito_persona.csv', index = False)"
   ]
  },
  {
   "cell_type": "code",
   "execution_count": null,
   "metadata": {},
   "outputs": [],
   "source": [
    "# # result_ = result.set_index('VIVIENDA_REF_ID')\n",
    "# # df_ = df.set_index('VIVIENDA_REF_ID') # Este trae la gente de esas viviendas...\n",
    "\n",
    "# x = result.join(df, how='left') "
   ]
  },
  {
   "cell_type": "code",
   "execution_count": null,
   "metadata": {},
   "outputs": [],
   "source": []
  }
 ],
 "metadata": {
  "kernelspec": {
   "display_name": "Python 3",
   "language": "python",
   "name": "python3"
  },
  "language_info": {
   "codemirror_mode": {
    "name": "ipython",
    "version": 3
   },
   "file_extension": ".py",
   "mimetype": "text/x-python",
   "name": "python",
   "nbconvert_exporter": "python",
   "pygments_lexer": "ipython3",
   "version": "3.6.7"
  }
 },
 "nbformat": 4,
 "nbformat_minor": 2
}
