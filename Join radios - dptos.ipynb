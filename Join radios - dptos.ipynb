{
 "cells": [
  {
   "cell_type": "code",
   "execution_count": 1,
   "metadata": {},
   "outputs": [],
   "source": [
    "import pandas as pd\n",
    "pd.options.display.max_columns = 99\n",
    "\n",
    "import geopandas as gpd\n",
    "\n",
    "import numpy as np\n"
   ]
  },
  {
   "cell_type": "code",
   "execution_count": 20,
   "metadata": {},
   "outputs": [],
   "source": [
    "radios_gdf = gpd.GeoDataFrame.from_file('./Radios_censales/radios_w_geometry.shp')\n",
    "radios_gdf['link'] = radios_gdf['LINK'].astype(str).str[:5]\n",
    "deptos_gdf = gpd.GeoDataFrame.from_file(driver = 'ESRI Shapefile', filename = './dptos/pxdptodatosok.shp')"
   ]
  },
  {
   "cell_type": "code",
   "execution_count": 34,
   "metadata": {},
   "outputs": [],
   "source": [
    "y = radios_gdf.merge(deptos_gdf, on = 'link')[['codpcia', 'link', 'LINK', 'departamen', 'PROVINCIA', 'HOGARES', 'VIVIENDAS','MUJERES', 'VARONES', 'POBLACION_', 'geometry_x', 'geometry_y']]\n",
    "y = y.rename(columns = {'link': 'dpto', 'LINK': 'radio', 'geometry_x': 'geom_rad', 'geometry_y': 'geom_dep'})"
   ]
  },
  {
   "cell_type": "code",
   "execution_count": 46,
   "metadata": {},
   "outputs": [],
   "source": [
    "y.iloc[:, :-2].to_csv('./Radios_censales/radio_depto.csv', encoding = 'utf-8', index = False)\n"
   ]
  },
  {
   "cell_type": "code",
   "execution_count": null,
   "metadata": {},
   "outputs": [],
   "source": []
  }
 ],
 "metadata": {
  "kernelspec": {
   "display_name": "Python 2",
   "language": "python",
   "name": "python2"
  },
  "language_info": {
   "codemirror_mode": {
    "name": "ipython",
    "version": 2
   },
   "file_extension": ".py",
   "mimetype": "text/x-python",
   "name": "python",
   "nbconvert_exporter": "python",
   "pygments_lexer": "ipython2",
   "version": "2.7.13"
  }
 },
 "nbformat": 4,
 "nbformat_minor": 2
}
