{
 "cells": [
  {
   "cell_type": "code",
   "execution_count": 1,
   "metadata": {},
   "outputs": [],
   "source": [
    "import warnings\n",
    "warnings.filterwarnings('ignore')\n",
    "\n",
    "import pandas as pd\n",
    "import geopandas as gpd"
   ]
  },
  {
   "cell_type": "code",
   "execution_count": 2,
   "metadata": {},
   "outputs": [],
   "source": [
    "inters_key = pd.read_csv('./interseccion_radio_circu.csv', index_col=0)"
   ]
  },
  {
   "cell_type": "code",
   "execution_count": 3,
   "metadata": {
    "scrolled": false
   },
   "outputs": [
    {
     "name": "stdout",
     "output_type": "stream",
     "text": [
      "[########################################] | 100% Completed |  8.3s\n"
     ]
    }
   ],
   "source": [
    "import dask.dataframe as dd\n",
    "from dask.diagnostics import ProgressBar\n",
    "\n",
    "#Esto es para extraer las viviendas, hogares y personas de los partidos (DPTOs) en cuestion.\n",
    "# seleccion_DPTOS y usecols nos sirven para no cargar data innecesaria.\n",
    "radio_ref = pd.read_csv('./Radios_censales/radio_ref.csv')\n",
    "VIVIENDA = dd.read_csv('./../../Desktop/extracted_/VIVIENDA.csv', sep = ';', \n",
    "                       usecols = ['VIVIENDA_REF_ID', 'RADIO_REF_ID', 'TIPVV', 'V01'])\n",
    "VIVIENDA = VIVIENDA.merge(radio_ref[['RADIO_REF_ID', 'radio', 'DPTO', 'PROV']], how = 'left')\n",
    "VIVIENDA = VIVIENDA.loc[VIVIENDA.PROV.isin([2, 6])].sample(0.3) # 6.811.463 de viviendas en BA\n",
    "\n",
    "with ProgressBar():\n",
    "    df = VIVIENDA.compute()"
   ]
  },
  {
   "cell_type": "code",
   "execution_count": 4,
   "metadata": {
    "scrolled": false
   },
   "outputs": [
    {
     "name": "stdout",
     "output_type": "stream",
     "text": [
      "6049\n",
      "6056\n",
      "6063\n",
      "6070\n",
      "6084\n",
      "6091\n",
      "6098\n",
      "6119\n",
      "6126\n",
      "6147\n",
      "6140\n",
      "6014\n",
      "6007\n",
      "62007\n",
      "6035\n",
      "62014\n",
      "86028\n",
      "6077\n",
      "6105\n",
      "6161\n",
      "6168\n",
      "2014\n",
      "2007\n",
      "6028\n",
      "22007\n",
      "6175\n",
      "14021\n",
      "30008\n",
      "6021\n",
      "6042\n",
      "74007\n",
      "6154\n",
      "6189\n",
      "6182\n",
      "6112\n",
      "2013\n",
      "2012\n",
      "2002\n",
      "2011\n",
      "2015\n",
      "2001\n",
      "2003\n",
      "2005\n",
      "2006\n",
      "2010\n",
      "2004\n",
      "6515\n",
      "6357\n",
      "6539\n",
      "6196\n",
      "74021\n",
      "6784\n",
      "6791\n",
      "6798\n",
      "6553\n",
      "6581\n",
      "6547\n",
      "6560\n",
      "86119\n",
      "6763\n",
      "6505\n",
      "6511\n",
      "22091\n",
      "50070\n",
      "6518\n",
      "6588\n",
      "22105\n",
      "62049\n",
      "70063\n",
      "82077\n",
      "6595\n",
      "6826\n",
      "6833\n",
      "6602\n",
      "6609\n",
      "6616\n",
      "6623\n",
      "6568\n",
      "6651\n",
      "6875\n",
      "6490\n",
      "6497\n",
      "6658\n",
      "6665\n",
      "6441\n",
      "6476\n",
      "2009\n",
      "2008\n",
      "6882\n",
      "6134\n",
      "6203\n",
      "6210\n",
      "22028\n",
      "74028\n",
      "6231\n",
      "6448\n",
      "6224\n",
      "6238\n",
      "6260\n",
      "6266\n",
      "6270\n",
      "6329\n",
      "6336\n",
      "6364\n",
      "6413\n",
      "issue on dpto 6413\n",
      "issue on dpto 6413\n",
      "issue on dpto 6413\n",
      "50035\n",
      "issue on dpto 50035\n",
      "issue on dpto 50035\n",
      "issue on dpto 50035\n",
      "74049\n",
      "issue on dpto 74049\n",
      "issue on dpto 74049\n",
      "issue on dpto 74049\n",
      "6525\n",
      "6483\n",
      "6455\n",
      "6462\n",
      "54070\n",
      "6638\n",
      "6742\n",
      "6532\n",
      "18105\n",
      "6648\n",
      "6679\n",
      "50084\n",
      "66133\n",
      "70084\n",
      "86154\n",
      "6778\n",
      "6868\n",
      "6805\n",
      "6574\n",
      "6840\n",
      "6749\n",
      "22140\n",
      "6854\n",
      "22168\n",
      "54119\n",
      "62091\n",
      "70126\n",
      "6644\n",
      "6655\n",
      "6672\n",
      "6686\n",
      "6693\n",
      "6700\n",
      "6707\n",
      "6714\n",
      "6721\n",
      "6728\n",
      "6735\n",
      "6756\n",
      "6760\n",
      "18154\n",
      "6770\n",
      "38063\n",
      "54112\n",
      "6812\n",
      "6819\n",
      "6847\n",
      "6861\n",
      "6217\n",
      "6245\n",
      "6274\n",
      "6280\n",
      "6322\n",
      "6371\n",
      "14042\n",
      "46091\n",
      "6399\n",
      "6252\n",
      "6412\n",
      "6420\n",
      "6427\n",
      "6287\n",
      "18056\n",
      "50014\n",
      "6294\n",
      "6301\n",
      "22049\n",
      "46063\n",
      "6315\n",
      "6343\n",
      "18063\n",
      "6351\n",
      "6434\n",
      "6385\n",
      "6392\n",
      "6406\n",
      "6408\n",
      "6410\n",
      "18084\n",
      "6469\n",
      "6277\n",
      "26028\n",
      "6308\n",
      "6630\n"
     ]
    }
   ],
   "source": [
    "list_ = []\n",
    "for dpto in inters_key.DPTO.unique():\n",
    "    list_dpto = []\n",
    "    print(dpto)\n",
    "    inters_key_dpto = inters_key.loc[(inters_key.DPTO == dpto)]\n",
    "    for circ in inters_key_dpto.circuito.unique():\n",
    "        list_circ = []\n",
    "#         print(circ)\n",
    "        # Radios incluidos totalmente en el circuito\n",
    "        inters_key_circ_total =  inters_key_dpto.loc[(inters_key_dpto.circuito == circ) & (inters_key_dpto.pertenencia == 1)]\n",
    "        fully_contained_radios = inters_key_circ_total['LINK'].values\n",
    "        viviendas = df.loc[df.radio.isin(fully_contained_radios)]\n",
    "        if len(viviendas) > 1:\n",
    "            list_circ += [viviendas] #samplear segun cuanto de ese radio pertenece al circuito\n",
    "        \n",
    "        # Radios incluidos parcialmente\n",
    "        inters_key_circ_parte =  inters_key_dpto.loc[(inters_key_dpto.circuito == circ) & (inters_key_dpto.pertenencia < 1)]\n",
    "        for i, r in inters_key_circ_parte.iterrows():\n",
    "            viviendas = df.loc[df.radio == r['LINK']]\n",
    "            if len(viviendas) > 1:\n",
    "                list_circ += [viviendas.sample(frac = r['pertenencia'])] #samplear segun cuanto de ese radio pertenece al circuito    \n",
    "\n",
    "        try:\n",
    "            result_circuito = pd.concat(list_circ)\n",
    "            result_circuito['circuito'] = circ\n",
    "            list_dpto += [result_circuito]\n",
    "        except:\n",
    "            print('issue on dpto '+str(dpto))\n",
    "    \n",
    "    result_dpto = pd.concat(list_dpto)\n",
    "    result_dpto['DPTO'] = dpto\n",
    "    list_ += [result_dpto]\n",
    "result = pd.concat(list_)"
   ]
  },
  {
   "cell_type": "code",
   "execution_count": 5,
   "metadata": {},
   "outputs": [],
   "source": [
    "# result.to_csv('./radio_circuito_key_example.csv')"
   ]
  },
  {
   "cell_type": "code",
   "execution_count": 6,
   "metadata": {},
   "outputs": [
    {
     "data": {
      "text/plain": [
       "(2465949, 8)"
      ]
     },
     "execution_count": 6,
     "metadata": {},
     "output_type": "execute_result"
    }
   ],
   "source": [
    "result.shape"
   ]
  },
  {
   "cell_type": "code",
   "execution_count": 7,
   "metadata": {},
   "outputs": [
    {
     "name": "stdout",
     "output_type": "stream",
     "text": [
      "[########################################] | 100% Completed |  1min 18.3s\n",
      "[########################################] | 100% Completed |  1min 44.7s\n"
     ]
    }
   ],
   "source": [
    "# Listo, tenemos la ubicacion de muchas viviendas en circuitos. Consigamos sus hogares y personas y contemos cuantos mayores de 16 hay.\n",
    "\n",
    "HOGARES = dd.read_csv('./../../Desktop/extracted_/HOGAR.csv', sep = ';', \n",
    "#                       usecols = ['HOGAR_REF_ID', 'VIVIENDA_REF_ID'])\n",
    "                      usecols = ['HOGAR_REF_ID', 'VIVIENDA_REF_ID', 'H05', 'H06', 'H07', 'H08',\n",
    "       'H09', 'H10', 'H11', 'H12', 'H13', 'H14', 'H15', 'H16', 'PROP', 'TOTPERS'])\n",
    "HOGARES = HOGARES.loc[HOGARES.VIVIENDA_REF_ID.isin(result.VIVIENDA_REF_ID.unique())] # Las viviendas elegidas salen de los circuitos\n",
    "\n",
    "with ProgressBar():\n",
    "    HOGARES_sample = HOGARES['HOGAR_REF_ID'].values.compute()\n",
    "    \n",
    "\n",
    "merged_hogar = VIVIENDA.merge(HOGARES, on = 'VIVIENDA_REF_ID')#.merge(PERSONA_)\n",
    "\n",
    "IX_TOT = merged_hogar.groupby('HOGAR_REF_ID').count().iloc[:, 0].reset_index()\n",
    "IX_TOT.columns = ['HOGAR_REF_ID', 'IX_TOT']\n",
    "\n",
    "merged_hogar = merged_hogar.merge(IX_TOT)\n",
    "\n",
    "with ProgressBar():\n",
    "    table = merged_hogar.compute()\n",
    "\n",
    "# Approach: modify Census to fit EPH\n",
    "table['V01'] = table['V01'].map({1:1, 2:6, 3:6, 4:2, 5:3, 6:4, 7:5, 8:6})\n",
    "table['H06'] = table['H06'].map({1:1, 2:2, 3:3, 4:4, 5:5, 6:6, 7:7, 8:9})\n",
    "table['H09'] = table['H09'].map({1:1, 2:2, 3:3, 4:4, 5:4, 6:4})\n",
    "table['H16'] = table['H16'].clip(0, 9)\n",
    "table['H14'] = table['H14'].map({1:1, 2:4, 3:2, 4:2, 5:4, 6:3, 7:4, 8:9})\n",
    "table['H13'] = table['H13'].map({1:1, 2:2, 4:0})\n",
    "\n",
    "# saber de que aglo es la persona. Se usa los resultados de cada aglo.\n",
    "table = table.merge(radio_ref[['RADIO_REF_ID','AGLOMERADO']]) \n",
    "\n",
    "# in case it crashes\n",
    "table.to_csv('./vivienda_hogar_step_save.csv', index = False)\n",
    "\n",
    " "
   ]
  },
  {
   "cell_type": "code",
   "execution_count": 8,
   "metadata": {},
   "outputs": [
    {
     "name": "stdout",
     "output_type": "stream",
     "text": [
      "[########################################] | 100% Completed |  2min 48.9s\n"
     ]
    }
   ],
   "source": [
    "PERSONA = dd.read_csv('./../../Desktop/extracted_/PERSONA.csv', sep = ';', \n",
    "#                       usecols = ['PERSONA_REF_ID', 'HOGAR_REF_ID', 'P03'])\n",
    "                      usecols = ['PERSONA_REF_ID', 'HOGAR_REF_ID', 'P01', 'P02', 'P03', 'P05', 'P06',\n",
    "       'P07', 'P12', 'P08', 'P09', 'P10', 'CONDACT'])\n",
    "PERSONA = PERSONA.loc[PERSONA.HOGAR_REF_ID.isin(HOGARES_sample)]\n",
    "\n",
    "with ProgressBar():\n",
    "    PERSONA = PERSONA.compute()\n",
    "    \n",
    "\n",
    "table = table.merge(PERSONA, on = 'HOGAR_REF_ID')\n",
    "table['P07'] = table['P07'].map({1:1, 2:2, 0:2})\n",
    "\n",
    "# with ProgressBar():\n",
    "#     df = table.compute()\n",
    "    \n",
    "table.to_csv('./vivienda_hogar_persona_step_save.csv', index = False)\n"
   ]
  },
  {
   "cell_type": "code",
   "execution_count": 9,
   "metadata": {},
   "outputs": [],
   "source": [
    "cicuito_pers = result.merge(table)\n",
    "\n",
    "# electores\n",
    "cicuito_pers = cicuito_pers.loc[cicuito_pers.P03 > 15]\n",
    "\n",
    "# dptos info\n",
    "from unidecode import unidecode\n",
    "DPTO = pd.read_csv('./../EleccionesARG/data/censo_geo/DPTO.csv', ';')[['DPTO', 'NOMDPTO']]\n",
    "DPTO['dpto_merge'] = [unidecode(row) for row in DPTO['NOMDPTO'].str.lower()]\n",
    "DPTO['dpto_merge'] = DPTO['dpto_merge'].str.replace('25', 'veinticinco').str.replace('9 ', 'nueve ')\n",
    "\n",
    "#zafa porque es CABA y PBA, pero hay que mergear usando DPTO y PROV. Pasa que los ID de provs estan en dos sistemas, con lo cual es mas largo de acomodar\n",
    "cicuito_pers = cicuito_pers.merge(DPTO[['DPTO', 'dpto_merge']], on = 'DPTO')\n",
    "cicuito_pers.to_csv('./circuito_poblacion_sint.csv', index = False)"
   ]
  },
  {
   "cell_type": "markdown",
   "metadata": {},
   "source": [
    "### Comparacion electores plot"
   ]
  },
  {
   "cell_type": "code",
   "execution_count": null,
   "metadata": {},
   "outputs": [],
   "source": [
    "# comparacion_electores = poblacion.merge(votos['ELECTORES'].reset_index(),\n",
    "#                 left_on = ['dpto_merge', 'circuito'],\n",
    "#                 right_on = ['dpto_merger_str', 'circuito']\n",
    "#                ).set_index(['dpto_merge', 'circuito'])[['poblacion', 'DN_2015', 'paso_2017', 'DN_2017']]\n",
    "# comparacion_electores.head()"
   ]
  },
  {
   "cell_type": "code",
   "execution_count": null,
   "metadata": {
    "scrolled": false
   },
   "outputs": [],
   "source": [
    "import matplotlib.pyplot as plt\n",
    "% matplotlib inline\n",
    "comparacion_electores.plot('poblacion', 'DN_2017', marker = '.', linewidth = 0)\n",
    "plt.xscale('log'); plt.yscale('log')\n",
    "plt.plot([100, 50000], [100, 50000], ls=\"--\", c=\".3\")\n",
    "plt.show()"
   ]
  },
  {
   "cell_type": "code",
   "execution_count": null,
   "metadata": {
    "scrolled": false
   },
   "outputs": [],
   "source": [
    "# comparacion_electores[[ 'DN_2015', 'paso_2017', 'DN_2017']].div(comparacion_electores['poblacion'].values, 0)/2."
   ]
  },
  {
   "cell_type": "code",
   "execution_count": null,
   "metadata": {},
   "outputs": [],
   "source": []
  }
 ],
 "metadata": {
  "kernelspec": {
   "display_name": "Python 3",
   "language": "python",
   "name": "python3"
  },
  "language_info": {
   "codemirror_mode": {
    "name": "ipython",
    "version": 3
   },
   "file_extension": ".py",
   "mimetype": "text/x-python",
   "name": "python",
   "nbconvert_exporter": "python",
   "pygments_lexer": "ipython3",
   "version": "3.6.7"
  }
 },
 "nbformat": 4,
 "nbformat_minor": 2
}
