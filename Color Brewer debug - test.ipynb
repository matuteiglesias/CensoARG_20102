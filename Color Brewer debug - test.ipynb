{
 "cells": [
  {
   "cell_type": "markdown",
   "metadata": {},
   "source": [
    "### Color Brewer"
   ]
  },
  {
   "cell_type": "code",
   "execution_count": 19,
   "metadata": {},
   "outputs": [],
   "source": [
    "from numpy import linspace, array"
   ]
  },
  {
   "cell_type": "code",
   "execution_count": 37,
   "metadata": {},
   "outputs": [],
   "source": [
    "blues_9 = ['#f7fbff','#deebf7','#c6dbef','#9ecae1','#6baed6','#4292c6','#2171b5','#08519c','#08306b']\n",
    "blues_9 = ['\"{0}\"'.format(w) for w in blues_9]\n",
    "\n",
    "values = linspace(0, 1, len(blues_9))\n"
   ]
  },
  {
   "cell_type": "code",
   "execution_count": 38,
   "metadata": {},
   "outputs": [
    {
     "name": "stdout",
     "output_type": "stream",
     "text": [
      "0.0, \"#f7fbff\", 0.125, \"#deebf7\", 0.25, \"#c6dbef\", 0.375, \"#9ecae1\", 0.5, \"#6baed6\", 0.625, \"#4292c6\", 0.75, \"#2171b5\", 0.875, \"#08519c\", 1.0, \"#08306b\"\n"
     ]
    }
   ],
   "source": [
    "colors = blues_9\n",
    "\n",
    "arr = array(list(map(list, zip(*[values, colors])))).flatten()\n",
    "\n",
    "print(*arr, sep=\", \")"
   ]
  },
  {
   "cell_type": "code",
   "execution_count": null,
   "metadata": {},
   "outputs": [],
   "source": []
  }
 ],
 "metadata": {
  "kernelspec": {
   "display_name": "Python 3",
   "language": "python",
   "name": "python3"
  },
  "language_info": {
   "codemirror_mode": {
    "name": "ipython",
    "version": 3
   },
   "file_extension": ".py",
   "mimetype": "text/x-python",
   "name": "python",
   "nbconvert_exporter": "python",
   "pygments_lexer": "ipython3",
   "version": "3.6.7"
  }
 },
 "nbformat": 4,
 "nbformat_minor": 2
}
