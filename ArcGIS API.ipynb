{
 "cells": [
  {
   "cell_type": "code",
   "execution_count": 209,
   "metadata": {
    "collapsed": true
   },
   "outputs": [],
   "source": [
    "from arcgis.gis import GIS\n",
    "gis = GIS(\"https://matuteiglesias.maps.arcgis.com\", \"matuteiglesias123\", \"matute012\")\n"
   ]
  },
  {
   "cell_type": "code",
   "execution_count": 173,
   "metadata": {
    "collapsed": true
   },
   "outputs": [],
   "source": [
    "import os"
   ]
  },
  {
   "cell_type": "code",
   "execution_count": 174,
   "metadata": {
    "collapsed": true
   },
   "outputs": [],
   "source": [
    "import json"
   ]
  },
  {
   "cell_type": "code",
   "execution_count": 158,
   "metadata": {
    "collapsed": true
   },
   "outputs": [],
   "source": [
    "with open('./test/Tipo_de_vivienda_particular_24_provs_52408_rws_14_cls.geojson', 'r') as json_file:\n",
    "    full_file = json.load(json_file)\n",
    "\n",
    "n = 10\n",
    "\n",
    "data = full_file['features']\n",
    "cuts = [round(i * (len(data)/n)) for i in range(n + 1)]\n",
    "\n",
    "for i in range(n):\n",
    "    part_file = full_file\n",
    "    part_file['features'] = data[cuts[i]: cuts[i+1]]\n",
    "    \n",
    "    with open('./test/Tipo_de_vivienda_particular_24_provs_52408_rws_14_cls_part_'+str(i)+'.geojson', 'w') as fp:\n",
    "        json.dump(part_file, fp)\n",
    "    "
   ]
  },
  {
   "cell_type": "code",
   "execution_count": 254,
   "metadata": {
    "collapsed": true
   },
   "outputs": [],
   "source": [
    "files = [\n",
    "    'Actividad_24_provs_52408_rws_8_cls',\n",
    " 'Asist_escuela_24_provs_52408_rws_8_cls',\n",
    " 'Baño_con_cadena_24_provs_52408_rws_7_cls',\n",
    "#  'Baño_uso_exclusivo_24_provs_52408_rws_7_cls', #\n",
    " 'Calidad_de_construccion_24_provs_52408_rws_8_cls',\n",
    "#  'Calidad_de_materiales_24_provs_52408_rws_9_cls', #\n",
    " 'Calidad_de_servicios_24_provs_52408_rws_8_cls',\n",
    "#  'Celular_24_provs_52408_rws_7_cls', #\n",
    "#  'Cielorraso_24_provs_52408_rws_7_cls', #\n",
    "#  'Combustible_cocina_24_provs_52408_rws_12_cls', #\n",
    "#  'Computadora_24_provs_52408_rws_7_cls', #\n",
    "#  'Cubierta_techos_24_provs_52408_rws_13_cls', #\n",
    "#  'Desague_baño_24_provs_52408_rws_9_cls', #\n",
    "#  'Hacinamiento_24_provs_52408_rws_11_cls', #\n",
    "#  'Heladera_24_provs_52408_rws_7_cls', #\n",
    " 'Hogares_en_vivienda_24_provs_52408_rws_7_cls', \n",
    "#  'NBI24_provs_52408_rws_7_cls', #\n",
    "#  'Nacionalidad_24_provs_52408_rws_7_cls', #\n",
    "#  'Nivel_educativo_24_provs_52408_rws_14_cls', # \n",
    " 'Ocupacion_24_provs_52408_rws_12_cls',\n",
    "#  'Personas_en_hogar_24_provs_52408_rws_13_cls', #\n",
    "#  'Pisos_24_provs_52408_rws_9_cls', #\n",
    "#  'Red_agua_24_provs_52408_rws_11_cls', #\n",
    " 'Relacion_con_jefe_24_provs_52408_rws_14_cls',\n",
    "#  'Sabe_leer_24_provs_52408_rws_7_cls', #\n",
    "#  'Salida_agua_24_provs_52408_rws_8_cls', #\n",
    "#  'Sexo_24_provs_52408_rws_7_cls', #\n",
    "#  'Tel_linea_24_provs_52408_rws_7_cls', #\n",
    " 'Tenencia_propiedad_24_provs_52408_rws_11_cls',\n",
    " 'Terminado_24_provs_52408_rws_7_cls',\n",
    " 'Tiene_baño_24_provs_52408_rws_7_cls',\n",
    "#  'Tipo_de_vivienda_24_provs_52408_rws_7_cls', #\n",
    " 'Tipo_de_vivienda_colectiva_24_provs_52408_rws_15_cls',\n",
    " 'Tipo_de_vivienda_particular_24_provs_52408_rws_14_cls',\n",
    "#  'Urbana_o_Rural_24_provs_52408_rws_8_cls', #\n",
    " 'Usa_PC_24_provs_52408_rws_7_cls'\n",
    "]"
   ]
  },
  {
   "cell_type": "code",
   "execution_count": 255,
   "metadata": {
    "collapsed": true
   },
   "outputs": [
    {
     "name": "stdout",
     "output_type": "stream",
     "text": [
      "./test/Actividad_24_provs_52408_rws_8_cls.geojson is published\n",
      "./test/Asist_escuela_24_provs_52408_rws_8_cls.geojson is published\n",
      "./test/Baño_con_cadena_24_provs_52408_rws_7_cls.geojson is published\n",
      "./test/Baño_uso_exclusivo_24_provs_52408_rws_7_cls.geojson had error\n",
      "./test/Calidad_de_construccion_24_provs_52408_rws_8_cls.geojson is published\n",
      "./test/Calidad_de_materiales_24_provs_52408_rws_9_cls.geojson had error\n",
      "./test/Calidad_de_servicios_24_provs_52408_rws_8_cls.geojson is published\n",
      "./test/Celular_24_provs_52408_rws_7_cls.geojson had error\n",
      "./test/Cielorraso_24_provs_52408_rws_7_cls.geojson had error\n",
      "./test/Combustible_cocina_24_provs_52408_rws_12_cls.geojson had error\n",
      "./test/Computadora_24_provs_52408_rws_7_cls.geojson had error\n",
      "./test/Cubierta_techos_24_provs_52408_rws_13_cls.geojson had error\n",
      "./test/Desague_baño_24_provs_52408_rws_9_cls.geojson had error\n",
      "./test/Hacinamiento_24_provs_52408_rws_11_cls.geojson had error\n",
      "./test/Heladera_24_provs_52408_rws_7_cls.geojson had error\n",
      "./test/Hogares_en_vivienda_24_provs_52408_rws_7_cls.geojson is published\n",
      "./test/NBI24_provs_52408_rws_7_cls.geojson had error\n",
      "./test/Nacionalidad_24_provs_52408_rws_7_cls.geojson had error\n",
      "./test/Nivel_educativo_24_provs_52408_rws_14_cls.geojson had error\n",
      "./test/Ocupacion_24_provs_52408_rws_12_cls.geojson is published\n",
      "./test/Personas_en_hogar_24_provs_52408_rws_13_cls.geojson had error\n",
      "./test/Pisos_24_provs_52408_rws_9_cls.geojson had error\n",
      "./test/Red_agua_24_provs_52408_rws_11_cls.geojson had error\n",
      "./test/Relacion_con_jefe_24_provs_52408_rws_14_cls.geojson is published\n",
      "./test/Sabe_leer_24_provs_52408_rws_7_cls.geojson had error\n",
      "./test/Salida_agua_24_provs_52408_rws_8_cls.geojson had error\n",
      "./test/Sexo_24_provs_52408_rws_7_cls.geojson had error\n",
      "./test/Tel_linea_24_provs_52408_rws_7_cls.geojson had error\n",
      "./test/Tenencia_propiedad_24_provs_52408_rws_11_cls.geojson is published\n",
      "./test/Terminado_24_provs_52408_rws_7_cls.geojson is published\n",
      "./test/Tiene_baño_24_provs_52408_rws_7_cls.geojson is published\n",
      "./test/Tipo_de_vivienda_24_provs_52408_rws_7_cls.geojson had error\n",
      "./test/Tipo_de_vivienda_colectiva_24_provs_52408_rws_15_cls.geojson is published\n",
      "./test/Tipo_de_vivienda_particular_24_provs_52408_rws_14_cls.geojson is published\n",
      "./test/Urbana_o_Rural_24_provs_52408_rws_8_cls.geojson had error\n",
      "./test/Usa_PC_24_provs_52408_rws_7_cls.geojson is published\n"
     ]
    }
   ],
   "source": [
    "# create new folder\n",
    "# gis.content.create_folder(folder= 'Datos Censo bis')\n",
    "\n",
    "files = os.listdir('./Preguntas_json/')\n",
    "# names = [name.split('.')[0] for name in files]\n",
    "\n",
    "for name in sorted(names):\n",
    "    json_path = './test/'+name+'.geojson'\n",
    "\n",
    "    try:\n",
    "        json_item = gis.content.search(name+'.geojson')[0]\n",
    "        feature_layer_item = json_item.publish()\n",
    "        print(json_path+' is published')\n",
    "    except:\n",
    "        print(json_path+' had error')\n"
   ]
  },
  {
   "cell_type": "code",
   "execution_count": 256,
   "metadata": {
    "collapsed": true
   },
   "outputs": [],
   "source": [
    "# items = gis.content.search('24_provs')\n",
    "\n",
    "# for item in items[7:]:\n",
    "#     if item.type == 'GeoJson':\n",
    "# #         item.move(folder = 'Datos Censo bis')\n",
    "#         print(item.name)\n",
    "#         item.publish(file_type='geojson')"
   ]
  },
  {
   "cell_type": "code",
   "execution_count": 257,
   "metadata": {
    "collapsed": true
   },
   "outputs": [],
   "source": [
    "# items = gis.content.search('Ocupacion')\n",
    "\n",
    "# for item in items:\n",
    "# #     if item.type == 'GeoJson':\n",
    "# #         item.move(folder = 'Datos Censo bis')\n",
    "#     print(item.name)\n",
    "# #         item.publish(file_type='geojson')"
   ]
  },
  {
   "cell_type": "code",
   "execution_count": 258,
   "metadata": {
    "collapsed": true
   },
   "outputs": [],
   "source": [
    "# items[3:5]"
   ]
  },
  {
   "cell_type": "code",
   "execution_count": 259,
   "metadata": {
    "collapsed": true
   },
   "outputs": [],
   "source": [
    "# item = items[1]\n",
    "# item.update()"
   ]
  },
  {
   "cell_type": "code",
   "execution_count": 260,
   "metadata": {
    "collapsed": true
   },
   "outputs": [],
   "source": [
    "\n",
    "# # map1 = my_gis.map()\n",
    "# item_to_add = [temp_item for temp_item in items if temp_item.type == \"Feature Service\"]\n",
    "# map1.add_layer(item_to_add)"
   ]
  },
  {
   "cell_type": "code",
   "execution_count": null,
   "metadata": {
    "collapsed": true
   },
   "outputs": [],
   "source": []
  },
  {
   "cell_type": "code",
   "execution_count": null,
   "metadata": {
    "collapsed": true
   },
   "outputs": [],
   "source": []
  }
 ],
 "metadata": {
  "kernelspec": {
   "display_name": "Python 2",
   "language": "python",
   "name": "python2"
  },
  "language_info": {
   "codemirror_mode": {
    "name": "ipython",
    "version": 2
   },
   "file_extension": ".py",
   "mimetype": "text/x-python",
   "name": "python",
   "nbconvert_exporter": "python",
   "pygments_lexer": "ipython2",
   "version": "2.7.13"
  }
 },
 "nbformat": 4,
 "nbformat_minor": 2
}
